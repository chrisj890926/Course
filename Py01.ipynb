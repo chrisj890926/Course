{
  "cells": [
    {
      "cell_type": "markdown",
      "metadata": {
        "id": "UGdXj3kyHusw"
      },
      "source": [
        "## Google Colab"
      ]
    },
    {
      "cell_type": "code",
      "execution_count": 1,
      "metadata": {
        "colab": {
          "base_uri": "https://localhost:8080/"
        },
        "id": "PMeNFljCNtII",
        "outputId": "259b2a18-c642-4194-da52-70b6db0868e9"
      },
      "outputs": [
        {
          "name": "stdout",
          "output_type": "stream",
          "text": [
            "3.12.0 (v3.12.0:0fb18b02c8, Oct  2 2023, 09:45:56) [Clang 13.0.0 (clang-1300.0.29.30)]\n"
          ]
        }
      ],
      "source": [
        "# 檢查Python版本\n",
        "import sys\n",
        "print(sys.version)"
      ]
    },
    {
      "cell_type": "code",
      "execution_count": 2,
      "metadata": {
        "colab": {
          "base_uri": "https://localhost:8080/"
        },
        "id": "OHQapxjTO65U",
        "outputId": "72ac1277-bdcc-4b62-d437-aed1eb0eb50e"
      },
      "outputs": [
        {
          "name": "stdout",
          "output_type": "stream",
          "text": [
            "Package                 Version\n",
            "----------------------- ------------\n",
            "archspec                0.2.2\n",
            "boltons                 23.1.1\n",
            "Brotli                  1.1.0\n",
            "certifi                 2023.11.17\n",
            "cffi                    1.16.0\n",
            "charset-normalizer      3.3.2\n",
            "ci-info                 0.3.0\n",
            "click                   8.1.7\n",
            "colorama                0.4.6\n",
            "conda                   23.11.0\n",
            "conda-libmamba-solver   23.12.0\n",
            "conda-package-handling  2.2.0\n",
            "conda_package_streaming 0.9.0\n",
            "configobj               5.0.8\n",
            "configparser            6.0.0\n",
            "distro                  1.9.0\n",
            "etelemetry              0.3.1\n",
            "filelock                3.13.1\n",
            "fitz                    0.0.1.dev2\n",
            "future                  0.18.3\n",
            "httplib2                0.22.0\n",
            "idna                    3.6\n",
            "isodate                 0.6.1\n",
            "jsonpatch               1.33\n",
            "jsonpointer             2.4\n",
            "libmambapy              1.5.6\n",
            "looseversion            1.3.0\n",
            "lxml                    5.1.0\n",
            "menuinst                2.0.2\n",
            "networkx                3.2.1\n",
            "nibabel                 5.2.0\n",
            "nipype                  1.8.6\n",
            "numpy                   1.26.3\n",
            "packaging               23.2\n",
            "pandas                  2.2.0\n",
            "pathlib                 1.0.1\n",
            "pip                     23.3.2\n",
            "platformdirs            4.1.0\n",
            "pluggy                  1.3.0\n",
            "prov                    2.0.0\n",
            "pycosat                 0.6.6\n",
            "pycparser               2.21\n",
            "pydot                   2.0.0\n",
            "PyMuPDF                 1.23.17\n",
            "PyMuPDFb                1.23.9\n",
            "pyparsing               3.1.1\n",
            "PySocks                 1.7.1\n",
            "python-dateutil         2.8.2\n",
            "pytz                    2023.3.post1\n",
            "pyxnat                  1.6\n",
            "rdflib                  7.0.0\n",
            "requests                2.31.0\n",
            "ruamel.yaml             0.18.5\n",
            "ruamel.yaml.clib        0.2.7\n",
            "scipy                   1.12.0\n",
            "setuptools              69.0.3\n",
            "simplejson              3.19.2\n",
            "six                     1.16.0\n",
            "tqdm                    4.66.1\n",
            "traits                  6.3.2\n",
            "tzdata                  2023.4\n",
            "urllib3                 2.1.0\n",
            "wheel                   0.42.0\n",
            "zstandard               0.22.0\n"
          ]
        }
      ],
      "source": [
        "# 檢查已安裝的Python套件\n",
        "!pip list"
      ]
    },
    {
      "cell_type": "code",
      "execution_count": 3,
      "metadata": {
        "colab": {
          "base_uri": "https://localhost:8080/"
        },
        "id": "TXPF0iuqOHm_",
        "outputId": "662376f9-77a8-4476-ee45-59d089263dd4"
      },
      "outputs": [
        {
          "name": "stdout",
          "output_type": "stream",
          "text": [
            "cat: /proc/cpuinfo: No such file or directory\n"
          ]
        },
        {
          "name": "stdout",
          "output_type": "stream",
          "text": [
            "cat: /proc/meminfo: No such file or directory\n"
          ]
        }
      ],
      "source": [
        "# 檢查分配的虛擬機的CPU和記憶體資源\n",
        "!cat /proc/cpuinfo\n",
        "!cat /proc/meminfo"
      ]
    },
    {
      "cell_type": "markdown",
      "metadata": {
        "id": "i8QrWlfYH6JJ"
      },
      "source": [
        "### Languages in Colab\n",
        "* Python\n",
        "* Shell script\n",
        "* Markdown"
      ]
    },
    {
      "cell_type": "markdown",
      "metadata": {
        "id": "BoOCwq-qJ-GH"
      },
      "source": [
        "###  Google Colab Python"
      ]
    },
    {
      "cell_type": "code",
      "execution_count": 4,
      "metadata": {
        "colab": {
          "base_uri": "https://localhost:8080/"
        },
        "id": "iMMh29QuJbCz",
        "outputId": "15c67b81-21e7-4e1f-ca12-c162b10b91d4"
      },
      "outputs": [
        {
          "name": "stdout",
          "output_type": "stream",
          "text": [
            "Hello world!\n"
          ]
        }
      ],
      "source": [
        "print(\"Hello world!\")"
      ]
    },
    {
      "cell_type": "code",
      "execution_count": 5,
      "metadata": {
        "colab": {
          "base_uri": "https://localhost:8080/"
        },
        "id": "iKTiiBd1JmX1",
        "outputId": "afa46276-b191-4bbc-9e34-e8236d4cccf7"
      },
      "outputs": [
        {
          "name": "stdout",
          "output_type": "stream",
          "text": [
            "0\n",
            "1\n",
            "2\n",
            "3\n",
            "4\n",
            "5\n",
            "6\n",
            "7\n",
            "8\n",
            "9\n"
          ]
        }
      ],
      "source": [
        "for i in range(10):\n",
        "    print(i)"
      ]
    },
    {
      "cell_type": "code",
      "execution_count": 6,
      "metadata": {
        "colab": {
          "base_uri": "https://localhost:8080/"
        },
        "id": "BI27P3pxJpm-",
        "outputId": "689bb25e-715b-402f-c44d-35bbb90186ec"
      },
      "outputs": [
        {
          "name": "stdout",
          "output_type": "stream",
          "text": [
            "Hello Jeff!\n",
            "Hello Daniel!\n",
            "Hello Kevin!\n"
          ]
        }
      ],
      "source": [
        "def greeting(name):\n",
        "    print(f\"Hello {name}!\")\n",
        "\n",
        "list_of_names = [\"Jeff\", \"Daniel\", \"Kevin\"]\n",
        "for person in list_of_names:\n",
        "    greeting(person)"
      ]
    },
    {
      "cell_type": "code",
      "execution_count": 7,
      "metadata": {
        "colab": {
          "base_uri": "https://localhost:8080/"
        },
        "id": "ZjSqdF6SJujm",
        "outputId": "d88c953d-d25a-4c84-8b8d-a3d8e9c91b12"
      },
      "outputs": [
        {
          "name": "stdout",
          "output_type": "stream",
          "text": [
            "95.03317777109125\n"
          ]
        }
      ],
      "source": [
        "import numpy as np\n",
        "\n",
        "class Circle(object):\n",
        "    def __init__(self,\n",
        "                 radius: float,\n",
        "                 color: str = \"red\"):\n",
        "        self.radius = radius\n",
        "        self.color = color\n",
        "\n",
        "    def get_area(self):\n",
        "        return np.pi * (self.radius ** 2)\n",
        "\n",
        "small_circle = Circle(5.5)\n",
        "print(small_circle.get_area())"
      ]
    },
    {
      "cell_type": "markdown",
      "metadata": {
        "id": "TPbtetgPKGLF"
      },
      "source": [
        "### Google Colab Markdown\n",
        "## H2 Title\n",
        "### H3 Title\n",
        "\n",
        "[Gmail](https://mail.google.com/)\n",
        "\n",
        "**bold** texts and *italic* texts"
      ]
    },
    {
      "cell_type": "markdown",
      "metadata": {
        "id": "18owFbqvK25m"
      },
      "source": [
        "LaTex: $$\\int_a^b x^2 + 2x - 3 dx$$"
      ]
    },
    {
      "cell_type": "markdown",
      "metadata": {},
      "source": [
        "LaTex: $$\\int_a^b x^2 + 2x - 3 dx$$"
      ]
    },
    {
      "cell_type": "markdown",
      "metadata": {
        "id": "n3YgKbvBLsf_"
      },
      "source": [
        "**Mounting Google Drive**"
      ]
    },
    {
      "cell_type": "code",
      "execution_count": null,
      "metadata": {
        "colab": {
          "base_uri": "https://localhost:8080/"
        },
        "id": "ABgfUOtVLNb2",
        "outputId": "d2e981b1-6394-4005-aeae-597256bb5894"
      },
      "outputs": [
        {
          "name": "stdout",
          "output_type": "stream",
          "text": [
            "Drive already mounted at /content/drive; to attempt to forcibly remount, call drive.mount(\"/content/drive\", force_remount=True).\n"
          ]
        }
      ],
      "source": [
        "from google.colab import drive  # Import a library named google.colab\n",
        "drive.mount('/content/drive')   # mount the content to the directory `/content/drive`"
      ]
    },
    {
      "cell_type": "markdown",
      "metadata": {
        "id": "oHlN94GDIOCl"
      },
      "source": [
        "## Python"
      ]
    },
    {
      "cell_type": "markdown",
      "metadata": {
        "id": "cEisDG2YPuby"
      },
      "source": [
        "### 資料類型\n"
      ]
    },
    {
      "cell_type": "code",
      "execution_count": null,
      "metadata": {
        "colab": {
          "base_uri": "https://localhost:8080/"
        },
        "id": "3MESiJvMP79P",
        "outputId": "ff6aaac9-c277-4cd6-c543-133149a2ffdd"
      },
      "outputs": [
        {
          "name": "stdout",
          "output_type": "stream",
          "text": [
            "10\n",
            "Hello, World!\n",
            "10.0\n",
            "<class 'bool'>\n",
            "False\n"
          ]
        }
      ],
      "source": [
        "# integer (int)\n",
        "x = 10\n",
        "print(x)\n",
        "\n",
        "# string (str)\n",
        "y = \"Hello, World!\"\n",
        "print(y)\n",
        "\n",
        "# float\n",
        "f = 10.0\n",
        "print(f)\n",
        "\n",
        "# boolean (bool)\n",
        "b = False\n",
        "print(type(b))\n",
        "print(b)"
      ]
    },
    {
      "cell_type": "markdown",
      "metadata": {
        "id": "CmyEHf9TPoou"
      },
      "source": [
        "### 容器"
      ]
    },
    {
      "cell_type": "code",
      "execution_count": null,
      "metadata": {
        "colab": {
          "base_uri": "https://localhost:8080/"
        },
        "id": "BQ-jLRMZQNog",
        "outputId": "41df72fd-a036-465d-d32d-4c305d022b96"
      },
      "outputs": [
        {
          "name": "stdout",
          "output_type": "stream",
          "text": [
            "1 5\n",
            "[1, 2]\n",
            "1\n",
            "John\n"
          ]
        }
      ],
      "source": [
        "# list\n",
        "l = [1, 2, 3, 4, 5]\n",
        "first_cha = l[0] # 用index[]取出值\n",
        "last_cha = l[4]\n",
        "print(first_cha, last_cha)\n",
        "\n",
        "sub_list = l[0:2] # 自0起取到1\n",
        "print(sub_list)\n",
        "\n",
        "# tuple\n",
        "t = (1, 2, 3, 4, 5)\n",
        "first_cha = t[0]\n",
        "print(first_cha)\n",
        "\n",
        "# dict\n",
        "info = {\"name\": \"John\", \"age\": 30} # key-value pair\n",
        "print(info[\"name\"])"
      ]
    },
    {
      "cell_type": "markdown",
      "metadata": {
        "id": "cMDmIEPe6lRP"
      },
      "source": [
        "**list-以`[  ]`宣告**\n",
        "* **可變性（Mutable）**：元素可以被修改。\n",
        "* 有序：元素有固定的順序，可以通過索引(index)訪問。\n",
        "* 元素類型：可以包含不同類型的元素。\n",
        "\n",
        "**tuple-以`(  )`宣告**\n",
        "* **不可變性（Immutable）**：一旦創建，元組中的元素不能被修改。\n",
        "* 有序：元素有固定的順序，可以通過索引訪問。\n",
        "* 元素類型：可以包含不同類型的元素。\n",
        "\n",
        "**dictionary-以`{  }`宣告**\n",
        "* 可變性（Mutable）：元素（key-value pair）可以被修改。\n",
        "* **無序**：維持插入順序，但基本上是以key-value pair的形式存儲，並非通過索引訪問。\n",
        "* key-value pair：字典存儲的是key和value的配對，其中key必須是唯一的。"
      ]
    },
    {
      "cell_type": "markdown",
      "metadata": {
        "id": "A3J6hLx_Q13U"
      },
      "source": [
        "### 運算\n",
        "* '+' 相加\n",
        "\n",
        "* '-' 相減\n",
        "\n",
        "* '*' 相乘\n",
        "\n",
        "* '/' 相除\n",
        "\n",
        "* '//' 只取整數\n",
        "\n",
        "* '%' 取餘數\n",
        "\n",
        "* '**' 次方項\n",
        "\n"
      ]
    },
    {
      "cell_type": "code",
      "execution_count": null,
      "metadata": {
        "colab": {
          "base_uri": "https://localhost:8080/"
        },
        "id": "ZOnLofOXQoaw",
        "outputId": "ee1e7674-3889-4767-ec22-2fe4453c60ca"
      },
      "outputs": [
        {
          "name": "stdout",
          "output_type": "stream",
          "text": [
            "1.5\n",
            "2.0\n",
            "-------------\n",
            "1\n",
            "2\n",
            "-------------\n"
          ]
        }
      ],
      "source": [
        "print(3/2)\n",
        "print(4/2) # '/'整除仍有小數點\n",
        "\n",
        "print('-------------')\n",
        "\n",
        "print(3//2)\n",
        "print(4//2)"
      ]
    },
    {
      "cell_type": "markdown",
      "metadata": {
        "id": "pLjCexpcXFoF"
      },
      "source": [
        "###練習1"
      ]
    },
    {
      "cell_type": "markdown",
      "metadata": {
        "id": "15UV5hjsUa93"
      },
      "source": [
        "(1)-1//2 = ?     \n",
        "\n",
        "* -1\n",
        "* -1.0\n",
        "* -0.5\n",
        "* 0\n",
        "\n",
        "\n",
        "(2)6//1.5 = ?\n",
        "* 4\n",
        "* 4.0\n",
        "\n",
        "(3)9.0//5 = ?    \n",
        "* 1.8\n",
        "* 1\n",
        "* 1.0\n"
      ]
    },
    {
      "cell_type": "code",
      "execution_count": null,
      "metadata": {
        "id": "43ik3CXXVId4"
      },
      "outputs": [],
      "source": [
        "# print(-1//2)\n",
        "# print(6//1.5)\n",
        "# print(9.0//5)"
      ]
    },
    {
      "cell_type": "markdown",
      "metadata": {
        "id": "ywONnBCcXJ8V"
      },
      "source": [
        "### 邏輯運算\n",
        "* '=='等於 (返回布林值)\n",
        "\n",
        "* '!='不等於 (返回布林值)\n",
        "\n",
        "* 'or' 有一True則回傳True\n",
        "\n",
        "* 'and' 全部True才回傳True\n",
        "\n",
        "* '+=' a+=b 為 a=a+b"
      ]
    },
    {
      "cell_type": "code",
      "execution_count": null,
      "metadata": {
        "colab": {
          "base_uri": "https://localhost:8080/"
        },
        "id": "NgsudfanYMAq",
        "outputId": "fc76d321-13e2-49ae-c602-cd880e449285"
      },
      "outputs": [
        {
          "name": "stdout",
          "output_type": "stream",
          "text": [
            "False\n",
            "True\n",
            "-------------\n",
            "True\n",
            "False\n",
            "True\n"
          ]
        }
      ],
      "source": [
        "print(1==2)\n",
        "print(2!=3)\n",
        "\n",
        "print('-------------')\n",
        "\n",
        "print(1==2 or 2!=3) # False or True\n",
        "print(1==2 and 2!=3) # False and True\n",
        "print(1==1 and 2!=3) # True and True"
      ]
    },
    {
      "cell_type": "code",
      "execution_count": null,
      "metadata": {
        "colab": {
          "base_uri": "https://localhost:8080/"
        },
        "id": "lsEn7jXVYVcU",
        "outputId": "90ea02f9-cdfb-4468-c185-4c7eb263fa4c"
      },
      "outputs": [
        {
          "data": {
            "text/plain": [
              "5"
            ]
          },
          "execution_count": 11,
          "metadata": {},
          "output_type": "execute_result"
        }
      ],
      "source": [
        "a = 2\n",
        "b = 3\n",
        "a = a + b\n",
        "\n",
        "a"
      ]
    },
    {
      "cell_type": "code",
      "execution_count": null,
      "metadata": {
        "colab": {
          "base_uri": "https://localhost:8080/"
        },
        "id": "wRI7V55cY5Em",
        "outputId": "3822c3c1-5dac-4c82-acba-53fc344da540"
      },
      "outputs": [
        {
          "data": {
            "text/plain": [
              "5"
            ]
          },
          "execution_count": 39,
          "metadata": {},
          "output_type": "execute_result"
        }
      ],
      "source": [
        "a = 2\n",
        "b = 3\n",
        "a += b\n",
        "\n",
        "a"
      ]
    },
    {
      "cell_type": "markdown",
      "metadata": {
        "id": "_7abX7yUQb4J"
      },
      "source": [
        "### 迴圈及條件判斷\n",
        "* for : 將值值逐一取出\n",
        "\n",
        "* while : 判斷為True時執行程式，False則停止。需有初始值、條件控制、更新值\n",
        "\n",
        "* if : 條件句,如果條件為True則執行\n",
        "\n",
        "* else : if 條件式為False則執行\n",
        "\n",
        "* elif : 當條件式很多時用else-if判斷句"
      ]
    },
    {
      "cell_type": "code",
      "execution_count": null,
      "metadata": {
        "colab": {
          "base_uri": "https://localhost:8080/"
        },
        "id": "5AwEI3_4S3JM",
        "outputId": "545ed6f2-1eac-4968-e81c-c67f249eb97f"
      },
      "outputs": [
        {
          "name": "stdout",
          "output_type": "stream",
          "text": [
            "0\n",
            "1\n",
            "2\n",
            "3\n",
            "4\n"
          ]
        }
      ],
      "source": [
        "for i in range(5):\n",
        "    print(i)"
      ]
    },
    {
      "cell_type": "code",
      "execution_count": null,
      "metadata": {
        "colab": {
          "base_uri": "https://localhost:8080/"
        },
        "id": "7xGc_m_vy4Im",
        "outputId": "140ddf47-2965-47f6-acec-12546b7a4210"
      },
      "outputs": [
        {
          "name": "stdout",
          "output_type": "stream",
          "text": [
            "####\n",
            "####\n",
            "####\n"
          ]
        }
      ],
      "source": [
        "for i in range(3): # i = 0, 1, 2\n",
        "  for j in range(4): # j = 0, 1, 2, 3\n",
        "    print('#', end = '')\n",
        "  print('')"
      ]
    },
    {
      "cell_type": "code",
      "execution_count": null,
      "metadata": {
        "colab": {
          "base_uri": "https://localhost:8080/"
        },
        "id": "-6UWomdNS_xc",
        "outputId": "e21a25ab-ff4b-4e7e-ac6e-733137b28729"
      },
      "outputs": [
        {
          "name": "stdout",
          "output_type": "stream",
          "text": [
            "0\n",
            "1\n",
            "2\n",
            "3\n",
            "4\n"
          ]
        }
      ],
      "source": [
        "count = 0\n",
        "while count < 5:\n",
        "    print(count)\n",
        "    count += 1"
      ]
    },
    {
      "cell_type": "code",
      "execution_count": null,
      "metadata": {
        "colab": {
          "base_uri": "https://localhost:8080/"
        },
        "id": "7_3kqn76bl6X",
        "outputId": "4a46db21-d961-4c13-f9ce-1bb32c7aa9ce"
      },
      "outputs": [
        {
          "name": "stdout",
          "output_type": "stream",
          "text": [
            "0\n",
            "1\n",
            "2\n",
            "3\n",
            "4\n"
          ]
        }
      ],
      "source": [
        "count = 0\n",
        "while True:\n",
        "    print(count)\n",
        "    count += 1\n",
        "    if count >= 5:\n",
        "      break"
      ]
    },
    {
      "cell_type": "code",
      "execution_count": null,
      "metadata": {
        "colab": {
          "base_uri": "https://localhost:8080/"
        },
        "id": "sQ-T-CcCQcA8",
        "outputId": "c7cd59e4-e35f-4df8-8ca4-5be4b096b8fc"
      },
      "outputs": [
        {
          "name": "stdout",
          "output_type": "stream",
          "text": [
            "Your age: 18\n",
            "You are an adult.\n"
          ]
        }
      ],
      "source": [
        "age = int(input(\"Your age: \"))\n",
        "if age >= 18:\n",
        "    print(\"You are an adult.\")\n",
        "else:\n",
        "    print(\"You are a minor.\")"
      ]
    },
    {
      "cell_type": "markdown",
      "metadata": {
        "id": "8seNBs9YWGm_"
      },
      "source": [
        "###練習2"
      ]
    },
    {
      "cell_type": "markdown",
      "metadata": {
        "id": "RBMvKL6o1cu-"
      },
      "source": [
        "1) 請透過nested for loop產生以下圖案\n",
        "\n",
        "\n",
        "![image.png](data:image/png;base64,iVBORw0KGgoAAAANSUhEUgAAAEQAAABtCAYAAAAYsMdMAAAAAXNSR0IArs4c6QAAAARnQU1BAACxjwv8YQUAAAAJcEhZcwAAEnQAABJ0Ad5mH3gAAAO9SURBVHhe7Zu/SiNRFMbPLiqYNGojGOIL2FjaWKa1Ep/BRnwESWsjYuMziJWdWPoCaXyBhAQs/NOooMKuZ7zXHT9dMrn33MvO8v1AZm7IGPMx5898x/tjbW3tl5APfrojcVAQgIIAFASgIAAFASgIQEEACgJQEMBEkL29PdnZ2SnOV1ZW5OjoSLa2top1KHr9/v6+tFqtYq2foT+piRZE/+BmsynX19fFemlpSWZmZorzGBYXF+Xh4UGGw+HHZ+QgWpC5uTmZnZ11q3een5/l7u7OrcJYWFhwZ3+4vb11Z+kIftrV0Nje3pZGo+Fe+crr66ucnp7KxcWFe2U8GhbLy8tu9T29Xq8IyxREP/53Oh3Z2NiQs7Oz4otr7K+vr8vx8bFcXV25d02Ghsju7q4MBoPii3vxLy8v5eTkxL0rDdEhMz8/XxxHo1Fx1Nh/enqS+/v7Yh2CD8NyXlJiw7AKLLtAtCB4R2gy9NUhFLwj8C5MSXAO0b5jdXXVrb6n3+9Lt9t1q/FoPtrc3JSpqSn3ylceHx+j8tM4opOqb5b0i2MyDAUTs4rfbrfl8PAw6s6rQlTIYMOEyTAUDcMyFmFYFZOk6hsmy2rg85IXPUdTpnAMAbDsAhQESB4yVcqzMkk5rVKePefn5xO1+8whAEMGoCAABQEoCEBBAAoCUBAgqyDaUB0cHBQeqaJNW3n2EoJeq7/Dz4H0M9R60GMIWQVR5+vl5eWTuxaLWg7T09Of3LWYuVBWQdDnUCzsRmzhdS4Uajdmad3rZDdmfZapg92YLWTQ+bK0Gy1df5ZdIJsgqaZx5TvCwn9NnkPqNhTPllS1KtRhKJ4tZLBhshyKeyzCMGtSLTdMlsMnn5csZsD0VAGWXYCCAEEhU6WUeiYpfVVKqXJzc5PsPwGYQwCGDEBBAAoCUBCAggAUBKAggIkg2lCpl6lo06aNmJ+ThKLXc79MCbUH0AnLQbQg6Eko3C/zF7hfhvtlvrpUltagtUNfBZZdIFoQ68mZgneEhVdaleAcUqcB9iREJ1XfLHG/zBvYMFkOsMtYjizGYZJUuV/mP4ZlF6AgQPKQqVKeFe6X+UdhyAAUBKAgAAUBKAhAQQAKAmQVRBsq7pcpoc4X98uUQJ9DsbAbuV/mjVR2Y9ZnmTrYjdlCBp0vS7uR+2USkk2QVNO48h1h4b8mzyF1G4pnS6paFbhfpgQ2TJZDcY9FGGZNqtwvU0NYdgEKAgSFTJVS6uF+mZrDkAEoCEBBAAoCUBCAggAUBKAgAAX5hMhvHOsDoO6dcS4AAAAASUVORK5CYII=)"
      ]
    },
    {
      "cell_type": "code",
      "execution_count": null,
      "metadata": {
        "id": "exaK0WZ9YrnX"
      },
      "outputs": [],
      "source": []
    },
    {
      "cell_type": "markdown",
      "metadata": {
        "id": "SdHwrJUIfxV8"
      },
      "source": [
        "2) 有一名為score的list，請設計一段程式碼，使其能夠逐一判斷score list中值應屬於何成績等第。\n",
        "\n",
        "若分數大於等於90則判斷為A；若分數大於等於80則判斷為B；若分數大於等於70則判斷為C；70分以下則為D。\n"
      ]
    },
    {
      "cell_type": "code",
      "execution_count": null,
      "metadata": {
        "id": "UY3sh1tsYsa9"
      },
      "outputs": [],
      "source": [
        "score = [92, 54, 72, 81, 49]\n",
        "\n",
        "# -----Code under here-----\n",
        "pass"
      ]
    },
    {
      "cell_type": "markdown",
      "metadata": {
        "id": "WQS_px_2kFpz"
      },
      "source": [
        "**for v.s. while**\n",
        "-\n",
        "* 確定迭代次數: for (每日代辦清單)\n",
        "* 不確定迭代次數: while (減肥)\n",
        "---\n",
        "**if v.s. while**\n",
        "-\n",
        "* 只執行一次: if (如果今天是你的生日**（if條件滿足）**，那你可以獲得一份免費餐點)\n",
        "* 需執行多次: while (一直檢查**（while迴圈條件）**是否有公車來。如果公車還沒到，你就繼續等**（重複執行）**，直到公車到達**(條件滿足)**)\n",
        "\n",
        "\n",
        "\n",
        "\n",
        "\n",
        "\n"
      ]
    },
    {
      "cell_type": "markdown",
      "metadata": {
        "id": "S_uj4QuiT3Hw"
      },
      "source": [
        "### 函數定義和調用"
      ]
    },
    {
      "cell_type": "code",
      "execution_count": null,
      "metadata": {
        "colab": {
          "base_uri": "https://localhost:8080/"
        },
        "id": "ehiGYLjET7YE",
        "outputId": "43874e11-265e-4a35-880c-919d494c5599"
      },
      "outputs": [
        {
          "name": "stdout",
          "output_type": "stream",
          "text": [
            "Hello, Alice!\n",
            "Hello, Alice!\n"
          ]
        }
      ],
      "source": [
        "def greet(name):\n",
        "    print(\"Hello,\", name + \"!\")\n",
        "    print(f\"Hello, {name}!\")\n",
        "\n",
        "greet(\"Alice\")"
      ]
    },
    {
      "cell_type": "code",
      "execution_count": null,
      "metadata": {
        "colab": {
          "base_uri": "https://localhost:8080/"
        },
        "id": "_3p9j7wcoUUA",
        "outputId": "5bceb93b-3173-4362-c450-714899326360"
      },
      "outputs": [
        {
          "name": "stdout",
          "output_type": "stream",
          "text": [
            "10 10 9\n"
          ]
        }
      ],
      "source": [
        "def my_bigger(n1, n2):\n",
        "  if n1 > n2:\n",
        "    return n1\n",
        "  else:\n",
        "    return n2\n",
        "\n",
        "ans_1 = my_bigger(9, 10) # 10\n",
        "ans_2 = my_bigger(10, 9) # 10\n",
        "ans_3 = my_bigger(9, 9) # 9\n",
        "\n",
        "print(ans_1, ans_2, ans_3)"
      ]
    },
    {
      "cell_type": "markdown",
      "metadata": {
        "id": "TmIZzd3lgXjl"
      },
      "source": [
        "## 練習 :"
      ]
    },
    {
      "cell_type": "markdown",
      "metadata": {
        "id": "xU5-yux1Hjnt"
      },
      "source": [
        "開發一個個人訊息管理系統，允許使用者進行以下操作：\n",
        "\n",
        "1. 顯示當前儲存的個人訊息。\n",
        "2. 更新儲存的個人訊息（user可選擇更改姓名、年齡或電子郵件）。\n",
        "3. 退出系統。\n",
        "\n",
        "\n",
        "note:\n",
        "\n",
        "1) 功能需可重複使用，直至使用者輸入\"3\"\n",
        "\n",
        "2) `for key, value in dict.items():` 可將dict中的key及value各別取出，儲存在一tuple中\n",
        "\n",
        "```\n",
        "example:\n",
        "dict = {\"name\": \"John\", \"age\": 30}\n",
        "for key, value in dict.items():\n",
        "  print(f\"My {key} is {value}.\")\n",
        "  \n",
        "  # My name is John.\n",
        "  # My age is 30.\n",
        "```\n",
        "\n",
        "\n",
        "3) `if x in dict:` 可判斷x是否在dict中\n",
        "\n",
        "4) `dict[key] = value` 可修改dict中value的值  "
      ]
    },
    {
      "cell_type": "markdown",
      "metadata": {
        "id": "GEvZQLejpBYM"
      },
      "source": [
        "### 用戶顯示個人訊息\n"
      ]
    },
    {
      "cell_type": "code",
      "execution_count": null,
      "metadata": {
        "id": "UKcXKB8BpK7q"
      },
      "outputs": [],
      "source": [
        "def display_info(info):\n",
        "    print(\"當前儲存的個人訊息如下：\")\n",
        "\n",
        "    # -----Code under here-----\n",
        "    pass"
      ]
    },
    {
      "cell_type": "markdown",
      "metadata": {
        "id": "O9YkSpnwpPIW"
      },
      "source": [
        "### 用戶更新個人訊息"
      ]
    },
    {
      "cell_type": "code",
      "execution_count": null,
      "metadata": {
        "id": "MgjefNB7pelL"
      },
      "outputs": [],
      "source": [
        "def update_info(info):\n",
        "    key = input(\"請輸入要更新的資料類型（name, age, email）：\")\n",
        "\n",
        "    # -----Code under here-----\n",
        "    pass"
      ]
    },
    {
      "cell_type": "markdown",
      "metadata": {
        "id": "Obj6Iskqpvtg"
      },
      "source": [
        "### 主程式\n",
        "\n",
        "---\n",
        "\n",
        "執行後需出現以下文字 :\n",
        "        \n",
        "        個人訊息管理系統\n",
        "        1. 顯示個人訊息\n",
        "        2. 更新個人訊息\n",
        "        3. 退出\n",
        "        請選擇一個操作（1/2/3）：▌\n",
        "\n",
        "\n",
        "---\n",
        "\n",
        "**input → output**\n",
        "\n",
        "1 → display_info\n",
        "\n",
        "2 → update_info\n",
        "\n",
        "3 → \"感謝使用個人訊息管理系統！\"    (中止程式)\n",
        "\n",
        "1, 2, 3外的其他數字 → \"無效，請重新輸入。\"\n",
        "\n",
        "---\n",
        "\n",
        "輸出結果示意如下"
      ]
    },
    {
      "cell_type": "markdown",
      "metadata": {
        "id": "W_Da5j8J-5QX"
      },
      "source": [
        "![image.png](data:image/png;base64,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)"
      ]
    },
    {
      "cell_type": "code",
      "execution_count": null,
      "metadata": {
        "id": "gVHBFlOggjgz"
      },
      "outputs": [],
      "source": [
        "def main():\n",
        "    person_info = {\"name\": \"Sher\", \"age\": \"45\", \"email\": \"cysher@mail.nsysu.edu.tw\"}\n",
        "\n",
        "    # -----Code under here-----\n",
        "    pass"
      ]
    }
  ],
  "metadata": {
    "colab": {
      "provenance": [],
      "toc_visible": true
    },
    "kernelspec": {
      "display_name": "Python 3",
      "name": "python3"
    },
    "language_info": {
      "codemirror_mode": {
        "name": "ipython",
        "version": 3
      },
      "file_extension": ".py",
      "mimetype": "text/x-python",
      "name": "python",
      "nbconvert_exporter": "python",
      "pygments_lexer": "ipython3",
      "version": "3.12.0"
    }
  },
  "nbformat": 4,
  "nbformat_minor": 0
}
